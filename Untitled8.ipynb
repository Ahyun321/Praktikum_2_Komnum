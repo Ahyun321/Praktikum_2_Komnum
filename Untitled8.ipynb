{
  "nbformat": 4,
  "nbformat_minor": 0,
  "metadata": {
    "colab": {
      "provenance": []
    },
    "kernelspec": {
      "name": "python3",
      "display_name": "Python 3"
    },
    "language_info": {
      "name": "python"
    }
  },
  "cells": [
    {
      "cell_type": "code",
      "execution_count": 1,
      "metadata": {
        "colab": {
          "base_uri": "https://localhost:8080/"
        },
        "id": "RCQIm_orBuHy",
        "outputId": "f8c0f15d-08e7-41fa-926c-b4f3b4239726"
      },
      "outputs": [
        {
          "output_type": "stream",
          "name": "stdout",
          "text": [
            "Tabel Integrasi Romberg:\n",
            "[[0.         0.         0.         0.         0.        ]\n",
            " [0.375      0.         0.         0.         0.        ]\n",
            " [0.34375    0.5        0.         0.         0.        ]\n",
            " [0.3359375  0.29166667 0.53333333 0.         0.        ]\n",
            " [0.33398438 0.35069444 0.27555556 0.54179894 0.        ]]\n",
            "\n",
            "Perkiraan nilai integral: 0.333984375\n"
          ]
        }
      ],
      "source": [
        "import numpy as np\n",
        "\n",
        "def f(x):\n",
        "  # Masukkan fungsi yang ingin diintegrasikan di sini\n",
        "  return x**2\n",
        "\n",
        "def integrasi_trapesium(a, b, n):\n",
        "  \"\"\"\n",
        "  Menghitung integral numerik menggunakan metode Trapesoidal.\n",
        "\n",
        "  Args:\n",
        "    a: Batas bawah integrasi.\n",
        "    b: Batas atas integrasi.\n",
        "    n: Jumlah interval.\n",
        "\n",
        "  Returns:\n",
        "    Perkiraan nilai integral.\n",
        "  \"\"\"\n",
        "  h = (b - a) / n\n",
        "  integral = 0.5 * f(a) + 0.5 * f(b)\n",
        "  for i in range(1, n):\n",
        "    integral += f(a + i * h)\n",
        "  return integral * h\n",
        "\n",
        "def integrasi_romberg(a, b, n_max):\n",
        "  \"\"\"\n",
        "  Menghitung integral numerik menggunakan metode Romberg.\n",
        "\n",
        "  Args:\n",
        "    a: Batas bawah integrasi.\n",
        "    b: Batas atas integrasi.\n",
        "    n_max: Jumlah interval maksimum.\n",
        "\n",
        "  Returns:\n",
        "    Tabel hasil integrasi Romberg dan perkiraan nilai integral akhir.\n",
        "  \"\"\"\n",
        "  R = np.zeros((n_max + 1, n_max + 1))\n",
        "  for i in range(1, n_max + 1):\n",
        "    h = (b - a) / (2**i)\n",
        "    R[i, 0] = integrasi_trapesium(a, b, 2**i)\n",
        "    for j in range(1, i + 1):\n",
        "      R[i, j] = (4**j * R[i - 1, j - 1] - R[i - 1, j]) / (4**j - 1)\n",
        "  return R, R[n_max, 0]\n",
        "\n",
        "# Contoh penggunaan\n",
        "a = 0\n",
        "b = 1\n",
        "n_max = 4\n",
        "\n",
        "integral_romberg, integral_akhir = integrasi_romberg(a, b, n_max)\n",
        "\n",
        "print(\"Tabel Integrasi Romberg:\")\n",
        "print(integral_romberg)\n",
        "print(\"\\nPerkiraan nilai integral:\", integral_akhir)\n"
      ]
    }
  ]
}